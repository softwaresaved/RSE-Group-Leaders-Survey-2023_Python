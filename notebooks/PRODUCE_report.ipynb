{
 "cells": [
  {
   "cell_type": "markdown",
   "metadata": {},
   "source": [
    "## Imports and settings"
   ]
  },
  {
   "cell_type": "code",
   "execution_count": 1,
   "metadata": {},
   "outputs": [],
   "source": [
    "import numpy as np\n",
    "import pandas as pd\n",
    "import sys\n",
    "sys.path.append('../src/data/')\n",
    "import util as util"
   ]
  },
  {
   "cell_type": "code",
   "execution_count": 3,
   "metadata": {},
   "outputs": [
    {
     "name": "stdout",
     "output_type": "stream",
     "text": [
      "Questions  : 20\n",
      "Respondents - all           : 36\n",
      "Respondents - agreed sharing: 36\n"
     ]
    }
   ],
   "source": [
    "setup, dset = util.read_setup_and_data()\n",
    "validated = util.validate_setup_and_data(setup, dset)\n",
    "\n",
    "if not validated:\n",
    "    print(\"ERROR: setup and data files are not valid.\")\n",
    "    raise KeyboardInterrupt\n",
    "\n",
    "# number of respondents and questions\n",
    "nrsps_raw = dset.shape[0]\n",
    "nqsts = dset.shape[1]\n",
    "\n",
    "# replace dset columns with setup keys\n",
    "dset.columns = setup.keys()\n",
    "\n",
    "# remove respondents who did not agree to share data\n",
    "dset = dset[dset.q1 == \"Yes\"]\n",
    "nrsps = dset.shape[0]\n",
    "\n",
    "# # process checkbox responses\n",
    "dset = util.process_checkboxes(dset, setup)\n",
    "\n",
    "# save the processed dataset\n",
    "util.save_data(dset)\n",
    "\n",
    "# print out some information\n",
    "print(f\"Questions  : {nqsts}\")\n",
    "print(f\"Respondents - all           : {nrsps_raw}\")\n",
    "print(f\"Respondents - agreed sharing: {nrsps}\")\n"
   ]
  },
  {
   "cell_type": "markdown",
   "metadata": {},
   "source": [
    "## Overview of the checkbox questions"
   ]
  },
  {
   "cell_type": "code",
   "execution_count": 4,
   "metadata": {},
   "outputs": [
    {
     "name": "stdout",
     "output_type": "stream",
     "text": [
      "                                                                                      count  percentage\n",
      "The main RSE Group for the university/research organisation                              26          72\n",
      "An RSE Group for a specific subset/group within the university/research organisation      8          22\n",
      "An RSE Group for multiple universities/research organisations                             4          11\n"
     ]
    }
   ],
   "source": [
    "\n",
    "for qst in [\"q4\"]:\n",
    "    if setup[qst]['type'] == 'checkbox':\n",
    "        util.display_checkbox_stats(dset, setup, qst)\n"
   ]
  }
 ],
 "metadata": {
  "kernelspec": {
   "display_name": "VPython",
   "language": "python",
   "name": "vpython"
  },
  "language_info": {
   "codemirror_mode": {
    "name": "ipython",
    "version": 3
   },
   "file_extension": ".py",
   "mimetype": "text/x-python",
   "name": "python",
   "nbconvert_exporter": "python",
   "pygments_lexer": "ipython3",
   "version": "3.7.9"
  },
  "orig_nbformat": 4
 },
 "nbformat": 4,
 "nbformat_minor": 2
}
