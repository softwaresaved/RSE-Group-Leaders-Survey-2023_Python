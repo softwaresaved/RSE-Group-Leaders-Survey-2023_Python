{
 "cells": [
  {
   "cell_type": "markdown",
   "metadata": {},
   "source": [
    "## Imports and settings"
   ]
  },
  {
   "cell_type": "code",
   "execution_count": 6,
   "metadata": {},
   "outputs": [],
   "source": [
    "import os\n",
    "import pandas as pd\n",
    "\n",
    "path_data_raw = '../data/raw/'\n",
    "fname_data_raw = 'rse_group_survey_2023_responses'"
   ]
  },
  {
   "cell_type": "code",
   "execution_count": 16,
   "metadata": {},
   "outputs": [
    {
     "name": "stdout",
     "output_type": "stream",
     "text": [
      "Questions  : 20\n",
      "Respondents: 36\n"
     ]
    }
   ],
   "source": [
    "dset = pd.read_csv(f\"{path_data_raw}{fname_data_raw}.csv\")\n",
    "qtxt = dset.columns[1:].astype(str).tolist()\n",
    "\n",
    "print(f\"Questions  : {len(qtxt)}\")\n",
    "print(f\"Respondents: {dset.shape[0]}\")"
   ]
  },
  {
   "cell_type": "code",
   "execution_count": null,
   "metadata": {},
   "outputs": [],
   "source": []
  }
 ],
 "metadata": {
  "kernelspec": {
   "display_name": "VPython",
   "language": "python",
   "name": "vpython"
  },
  "language_info": {
   "codemirror_mode": {
    "name": "ipython",
    "version": 3
   },
   "file_extension": ".py",
   "mimetype": "text/x-python",
   "name": "python",
   "nbconvert_exporter": "python",
   "pygments_lexer": "ipython3",
   "version": "3.7.9"
  },
  "orig_nbformat": 4
 },
 "nbformat": 4,
 "nbformat_minor": 2
}
