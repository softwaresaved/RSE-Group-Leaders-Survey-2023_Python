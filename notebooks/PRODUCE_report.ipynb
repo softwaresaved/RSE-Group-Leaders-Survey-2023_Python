{
 "cells": [
  {
   "cell_type": "markdown",
   "metadata": {},
   "source": [
    "# RSE Group Leaders Survey 2023"
   ]
  },
  {
   "cell_type": "code",
   "execution_count": 13,
   "metadata": {},
   "outputs": [],
   "source": [
    "import sys\n",
    "import importlib\n",
    "import numpy as np\n",
    "import pandas as pd\n",
    "sys.path.append('../src/data/')\n",
    "import util as util"
   ]
  },
  {
   "cell_type": "code",
   "execution_count": 2,
   "metadata": {},
   "outputs": [
    {
     "name": "stdout",
     "output_type": "stream",
     "text": [
      "Questions  : 20\n",
      "Respondents - all           : 36\n",
      "Respondents - agreed sharing: 36\n"
     ]
    }
   ],
   "source": [
    "setup, dset = util.read_setup_and_data()\n",
    "validated = util.validate_setup_and_data(setup, dset)\n",
    "\n",
    "if not validated:\n",
    "    print(\"ERROR: setup and data files are not valid.\")\n",
    "    raise KeyboardInterrupt\n",
    "\n",
    "# number of respondents and questions\n",
    "nrsps_raw = dset.shape[0]\n",
    "nqsts = dset.shape[1]\n",
    "\n",
    "# replace dset columns with setup keys\n",
    "dset.columns = setup.keys()\n",
    "\n",
    "# remove respondents who did not agree to share data\n",
    "dset = dset[dset.q1 == \"Yes\"]\n",
    "nrsps = dset.shape[0]\n",
    "\n",
    "# process checkbox responses\n",
    "dset = util.process_checkboxes(dset, setup)\n",
    "\n",
    "# save the processed dataset\n",
    "util.save_data(dset)\n",
    "\n",
    "# print out some information\n",
    "print(f\"Questions  : {nqsts}\")\n",
    "print(f\"Respondents - all           : {nrsps_raw}\")\n",
    "print(f\"Respondents - agreed sharing: {nrsps}\")\n"
   ]
  },
  {
   "cell_type": "markdown",
   "metadata": {},
   "source": [
    "## Overview of the answers"
   ]
  },
  {
   "cell_type": "code",
   "execution_count": 17,
   "metadata": {},
   "outputs": [
    {
     "name": "stdout",
     "output_type": "stream",
     "text": [
      "\n",
      "Q4: Is your group:\n",
      "\n",
      "                                                                                      count  percentage\n",
      "The main RSE Group for the university/research organisation                              26          72\n",
      "An RSE Group for a specific subset/group within the university/research organisation      8          22\n",
      "An RSE Group for multiple universities/research organisations                             4          11\n",
      "\n",
      "Q7: Where is your group based?\n",
      "\n",
      "                                                    count  percentage\n",
      "IT/Research IT                                         14          39\n",
      "Other                                                   9          25\n",
      "Academic Department - supporting whole Institution      5          14\n",
      "Academic Department - supporting a specific domain      4          11\n",
      "Independent Institute/Facility                          4          11\n",
      "\n",
      "Q15: Please rate the level of demand for your Group's services\n",
      "\n",
      "                                                      count  percentage\n",
      "Demand greater than the number of RSEs                   17          47\n",
      "Demand significantly greater than the number of RSEs     14          39\n",
      "Demand is met by the number of RSEs                       4          11\n",
      "Demand is less than the number of RSEs                    0           0\n",
      "Demand is significantly less than the number of RSEs      0           0\n",
      "\n",
      "Q16: If demand for your services outstrips the number of RSEs, what causes this situation?\n",
      "\n",
      "                                                                                                                 count  percentage\n",
      "Hiring processes are long-winded, so we're always behind the demand curve                                           21          58\n",
      "We lack the funding to make new positions available                                                                 12          33\n",
      "We can attract RSEs, but can't hire them because the salary and other benefits we can offer are not competitive      9          25\n",
      "We have funding, but we can't find RSEs to hire                                                                      7          19\n"
     ]
    }
   ],
   "source": [
    "for qst in setup.keys():\n",
    "    if setup[qst]['type'] == 'checkbox':\n",
    "        print(f\"\\n{qst.upper()}: {setup[qst]['text']}\\n\")\n",
    "        util.display_checkbox_stats(dset, setup, qst)"
   ]
  }
 ],
 "metadata": {
  "kernelspec": {
   "display_name": "VPython",
   "language": "python",
   "name": "vpython"
  },
  "language_info": {
   "codemirror_mode": {
    "name": "ipython",
    "version": 3
   },
   "file_extension": ".py",
   "mimetype": "text/x-python",
   "name": "python",
   "nbconvert_exporter": "python",
   "pygments_lexer": "ipython3",
   "version": "3.7.9"
  },
  "orig_nbformat": 4
 },
 "nbformat": 4,
 "nbformat_minor": 2
}
